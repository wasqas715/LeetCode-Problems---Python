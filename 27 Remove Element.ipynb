{
 "cells": [
  {
   "cell_type": "code",
   "execution_count": null,
   "metadata": {},
   "outputs": [],
   "source": [
    "class Solution:\n",
    "    def removeElement(self, nums: list[int], val: int) -> int:\n",
    "        while val in nums:\n",
    "            nums.remove(val)\n",
    "        k = len(nums)\n",
    "        return k"
   ]
  }
 ],
 "metadata": {
  "language_info": {
   "name": "python"
  }
 },
 "nbformat": 4,
 "nbformat_minor": 2
}
