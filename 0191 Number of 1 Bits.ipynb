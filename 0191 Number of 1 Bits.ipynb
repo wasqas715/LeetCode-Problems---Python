{
 "cells": [
  {
   "cell_type": "code",
   "execution_count": null,
   "metadata": {},
   "outputs": [],
   "source": [
    "from collections import Counter\n",
    "\n",
    "\n",
    "class Solution:\n",
    "    def hammingWeight(self, n: int) -> int:\n",
    "        temp = bin(n).replace(\"0b\", \"\")\n",
    "        hi = [int(i) for i in temp]\n",
    "        hi = Counter(hi).most_common()\n",
    "        if len(hi) != 2 and hi[0][0] == 0:\n",
    "            return 0\n",
    "        if hi[0][0] == 1:\n",
    "            return hi[0][1]\n",
    "        else:\n",
    "            return hi[1][1]"
   ]
  }
 ],
 "metadata": {
  "language_info": {
   "name": "python"
  }
 },
 "nbformat": 4,
 "nbformat_minor": 2
}
