{
 "cells": [
  {
   "cell_type": "code",
   "execution_count": null,
   "metadata": {},
   "outputs": [],
   "source": [
    "class Solution:\n",
    "    def isMonotonic(self, nums: List[int]) -> bool:\n",
    "        lst = nums.copy()\n",
    "        lst.sort()\n",
    "        if nums == lst:\n",
    "            return True\n",
    "        else:\n",
    "            lst.reverse()       \n",
    "        if nums == lst:\n",
    "            return True\n",
    "        else:\n",
    "            return False"
   ]
  }
 ],
 "metadata": {
  "language_info": {
   "name": "python"
  }
 },
 "nbformat": 4,
 "nbformat_minor": 2
}
