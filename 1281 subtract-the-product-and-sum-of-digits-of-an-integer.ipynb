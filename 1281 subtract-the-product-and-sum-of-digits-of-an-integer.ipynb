{
 "cells": [
  {
   "cell_type": "code",
   "execution_count": null,
   "metadata": {},
   "outputs": [],
   "source": [
    "class Solution:\n",
    "    def subtractProductAndSum(self, n: int) -> int:\n",
    "        hi = list(str(n))\n",
    "        product = 1\n",
    "        summ = 0\n",
    "        for i in hi:\n",
    "            product *= int(i)\n",
    "            summ += int(i)\n",
    "        return product - summ"
   ]
  }
 ],
 "metadata": {
  "language_info": {
   "name": "python"
  }
 },
 "nbformat": 4,
 "nbformat_minor": 2
}
