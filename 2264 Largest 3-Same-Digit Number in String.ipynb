{
 "cells": [
  {
   "cell_type": "code",
   "execution_count": 28,
   "metadata": {},
   "outputs": [],
   "source": [
    "def largestGoodInteger(num: str):\n",
    "    temp = ''\n",
    "    for i in range(0, len(num) - 2):\n",
    "        if int(num[i:i+3]) % 111 == 0:\n",
    "            if temp == '':\n",
    "                temp = '-1'\n",
    "            if int(num[i:i+3]) > int(temp):\n",
    "                temp = num[i:i+3]\n",
    "    return(temp)"
   ]
  },
  {
   "cell_type": "code",
   "execution_count": 29,
   "metadata": {},
   "outputs": [
    {
     "name": "stdout",
     "output_type": "stream",
     "text": [
      "temp\n",
      "0\n",
      "Nums\n",
      "777\n",
      "------\n",
      "777\n",
      "temp\n",
      "777\n",
      "Nums\n",
      "333\n",
      "------\n",
      "temp\n",
      "777\n",
      "Nums\n",
      "333\n",
      "------\n",
      "----------\n",
      "777\n"
     ]
    }
   ],
   "source": [
    "num = \"6777133339\"\n",
    "x = largestGoodInteger(num)\n",
    "print(x)"
   ]
  }
 ],
 "metadata": {
  "kernelspec": {
   "display_name": "Python 3",
   "language": "python",
   "name": "python3"
  },
  "language_info": {
   "codemirror_mode": {
    "name": "ipython",
    "version": 3
   },
   "file_extension": ".py",
   "mimetype": "text/x-python",
   "name": "python",
   "nbconvert_exporter": "python",
   "pygments_lexer": "ipython3",
   "version": "3.11.7"
  }
 },
 "nbformat": 4,
 "nbformat_minor": 2
}
