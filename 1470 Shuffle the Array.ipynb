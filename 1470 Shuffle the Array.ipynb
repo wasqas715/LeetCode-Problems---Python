{
 "cells": [
  {
   "cell_type": "code",
   "execution_count": null,
   "metadata": {},
   "outputs": [],
   "source": [
    "class Solution:\n",
    "    def shuffle(self, nums: list[int], n: int) -> list[int]:\n",
    "        left = list(nums[:n])\n",
    "        right = list(nums[n:])\n",
    "        ans = []\n",
    "        for i, j in zip(left, right):\n",
    "            ans.append(i)\n",
    "            ans.append(j)\n",
    "        return ans"
   ]
  }
 ],
 "metadata": {
  "language_info": {
   "name": "python"
  },
  "orig_nbformat": 4
 },
 "nbformat": 4,
 "nbformat_minor": 2
}
