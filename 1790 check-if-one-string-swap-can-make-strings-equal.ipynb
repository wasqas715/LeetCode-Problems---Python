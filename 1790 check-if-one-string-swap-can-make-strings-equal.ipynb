{
 "cells": [
  {
   "cell_type": "code",
   "execution_count": null,
   "metadata": {},
   "outputs": [],
   "source": [
    "class Solution:\n",
    "    def areAlmostEqual(self, s1: str, s2: str) -> bool:\n",
    "        checker = 0\n",
    "        if s1 == s2:\n",
    "            return True\n",
    "        elif sorted(s1) == sorted(s2):\n",
    "            # print('hi')\n",
    "            temp = [a for a in str(s1)]\n",
    "            temp_s2 = [a for a in str(s2)]\n",
    "            # print(temp, temp_s2)\n",
    "            for i in range(len(s1)):\n",
    "                # print(i)\n",
    "                if temp[i] != temp_s2[i]:\n",
    "                    checker += 1\n",
    "        # print(checker)\n",
    "        if checker == 2:\n",
    "            return True\n",
    "        return False"
   ]
  }
 ],
 "metadata": {
  "language_info": {
   "name": "python"
  }
 },
 "nbformat": 4,
 "nbformat_minor": 2
}
