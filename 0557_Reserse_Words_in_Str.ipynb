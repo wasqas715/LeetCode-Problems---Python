{
 "cells": [
  {
   "cell_type": "code",
   "execution_count": 14,
   "metadata": {},
   "outputs": [],
   "source": [
    "s = \"Let's take LeetCode contest\"\n",
    "fake = ''.join(s)"
   ]
  },
  {
   "cell_type": "code",
   "execution_count": 15,
   "metadata": {},
   "outputs": [],
   "source": [
    "class Solution:\n",
    "    def reverseWords(s):\n",
    "        mast = []\n",
    "        temp_lst = []\n",
    "        # loop over letters in string\n",
    "        for char in s:\n",
    "            #If char is not whitespace\n",
    "            if char != ' ':\n",
    "                temp_lst.append(char)\n",
    "            #If whitespace\n",
    "            elif char == ' ':\n",
    "                temp_lst.reverse()\n",
    "                temp_lst.append(' ')\n",
    "                mast += temp_lst\n",
    "                temp_lst = []\n",
    "            else:\n",
    "                print('SOS IT IS ON FIRE')\n",
    "            print(char)\n",
    "        # Add last word into list\n",
    "        temp_lst.reverse()\n",
    "        mast += temp_lst\n",
    "        return ''.join(mast)\n",
    "\n",
    "\n"
   ]
  },
  {
   "cell_type": "code",
   "execution_count": 16,
   "metadata": {},
   "outputs": [
    {
     "data": {
      "text/plain": [
       "'\\nx = Solution.reverseWords(s)\\nprint(x)\\n'"
      ]
     },
     "execution_count": 16,
     "metadata": {},
     "output_type": "execute_result"
    }
   ],
   "source": [
    "'''\n",
    "x = Solution.reverseWords(s)\n",
    "print(x)\n",
    "'''"
   ]
  },
  {
   "cell_type": "code",
   "execution_count": 23,
   "metadata": {},
   "outputs": [],
   "source": [
    "class Solution:\n",
    "    def reverseWords(s):\n",
    "        master = ' '.join(map(lambda x: x[::-1], s.split()))\n",
    "        return master"
   ]
  },
  {
   "cell_type": "code",
   "execution_count": 24,
   "metadata": {},
   "outputs": [
    {
     "name": "stdout",
     "output_type": "stream",
     "text": [
      "s'teL ekat edoCteeL tsetnoc\n"
     ]
    }
   ],
   "source": [
    "x = Solution.reverseWords(s)\n",
    "print(x)"
   ]
  }
 ],
 "metadata": {
  "kernelspec": {
   "display_name": "Python 3",
   "language": "python",
   "name": "python3"
  },
  "language_info": {
   "codemirror_mode": {
    "name": "ipython",
    "version": 3
   },
   "file_extension": ".py",
   "mimetype": "text/x-python",
   "name": "python",
   "nbconvert_exporter": "python",
   "pygments_lexer": "ipython3",
   "version": "3.11.0"
  },
  "orig_nbformat": 4
 },
 "nbformat": 4,
 "nbformat_minor": 2
}
