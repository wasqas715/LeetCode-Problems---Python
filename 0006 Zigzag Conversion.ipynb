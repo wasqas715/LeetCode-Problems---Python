{
 "cells": [
  {
   "cell_type": "code",
   "execution_count": null,
   "metadata": {},
   "outputs": [],
   "source": [
    "class Solution:\n",
    "    def convert(self, s: str, numRows: int) -> str:\n",
    "        if numRows == 1:\n",
    "            return s\n",
    "        counter = 0\n",
    "        rows = [''] * numRows\n",
    "        while counter +1 <= len(s):\n",
    "            for i in range(numRows):\n",
    "                if counter == len(s):\n",
    "                    break\n",
    "                rows[i] += s[counter]\n",
    "                counter += 1\n",
    "            for j in range(numRows-2, 0, -1):\n",
    "                if counter == len(s):\n",
    "                    break\n",
    "                rows[j] += s[counter]\n",
    "                counter += 1\n",
    "\n",
    "        return \"\".join(rows)"
   ]
  }
 ],
 "metadata": {
  "language_info": {
   "name": "python"
  }
 },
 "nbformat": 4,
 "nbformat_minor": 2
}
