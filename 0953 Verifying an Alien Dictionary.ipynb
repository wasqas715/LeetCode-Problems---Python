{
 "cells": [
  {
   "cell_type": "code",
   "execution_count": null,
   "metadata": {},
   "outputs": [],
   "source": [
    "class Solution:\n",
    "    def isAlienSorted(self, words: list[str], order: str) -> bool:\n",
    "        temp_lst = list(order)\n",
    "        temp_val = list(range(len(temp_lst)))\n",
    "        temp_dict = dict(zip(temp_lst, temp_val))\n",
    "\n",
    "\n",
    "\n",
    "        for i in range(len(words) -1):\n",
    "            if temp_dict[words[i][0]] < temp_dict[words[i+1][0]]:\n",
    "                pass\n",
    "            elif temp_dict[words[i][0]] == temp_dict[words[i+1][0]]:\n",
    "                len1 = len(words[i])\n",
    "                len2 = len(words[i+1])\n",
    "                if len2 < len1 and words[i].startswith(words[i+1]):\n",
    "                    return False\n",
    "                for k in range(1, (min(len1, len2))):\n",
    "                    if temp_dict[words[i][k]]<= temp_dict[words[i+1][k]]:\n",
    "                        pass\n",
    "                    else:\n",
    "                        return False\n",
    "            else:\n",
    "                return False\n",
    "        return True"
   ]
  }
 ],
 "metadata": {
  "language_info": {
   "name": "python"
  }
 },
 "nbformat": 4,
 "nbformat_minor": 2
}
