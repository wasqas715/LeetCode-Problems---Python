{
 "cells": [
  {
   "cell_type": "code",
   "execution_count": null,
   "metadata": {},
   "outputs": [],
   "source": [
    "class Solution:\n",
    "    def isHappy(self, n: int) -> bool:\n",
    "        n = [int(a) for a in str(n)]\n",
    "        while len(n) > 1:\n",
    "            count = 0\n",
    "            for i in n:\n",
    "                count += i ** 2\n",
    "            n = [int(a) for a in str(count)]\n",
    "        if n[0] == 7 or n[0] == 1:\n",
    "            return True\n",
    "        else:\n",
    "            return False"
   ]
  }
 ],
 "metadata": {
  "language_info": {
   "name": "python"
  }
 },
 "nbformat": 4,
 "nbformat_minor": 2
}
