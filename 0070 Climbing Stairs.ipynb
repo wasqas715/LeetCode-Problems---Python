{
 "cells": [
  {
   "cell_type": "code",
   "execution_count": null,
   "metadata": {},
   "outputs": [],
   "source": [
    "class Solution:\n",
    "    def climbStairs(self, n: int) -> int:\n",
    "        if n<2:\n",
    "            return n\n",
    "        x, y = 1, 2\n",
    "        for i in range(n):\n",
    "            temp = x + y\n",
    "            x = y\n",
    "            y = temp\n",
    "            if i == n -2:\n",
    "                return x"
   ]
  }
 ],
 "metadata": {
  "language_info": {
   "name": "python"
  }
 },
 "nbformat": 4,
 "nbformat_minor": 2
}
