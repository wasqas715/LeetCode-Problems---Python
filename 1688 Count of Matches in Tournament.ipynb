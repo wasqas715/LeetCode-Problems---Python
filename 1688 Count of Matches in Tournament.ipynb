{
 "cells": [
  {
   "cell_type": "code",
   "execution_count": null,
   "metadata": {},
   "outputs": [],
   "source": [
    "# Funny I heard about this problem recently\n",
    "# As it is a single elimation bracket, for there to be a winner n-1 matches have\n",
    "# Occur to kick out the other n-1 non winners"
   ]
  },
  {
   "cell_type": "code",
   "execution_count": null,
   "metadata": {},
   "outputs": [],
   "source": [
    "class Solution:\n",
    "    def numberOfMatches(self, n: int) -> int:\n",
    "        return(n-1)"
   ]
  }
 ],
 "metadata": {
  "language_info": {
   "name": "python"
  }
 },
 "nbformat": 4,
 "nbformat_minor": 2
}
