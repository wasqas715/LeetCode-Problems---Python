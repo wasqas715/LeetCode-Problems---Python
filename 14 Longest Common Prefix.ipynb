{
 "cells": [
  {
   "cell_type": "code",
   "execution_count": null,
   "metadata": {},
   "outputs": [],
   "source": [
    "class Solution:\n",
    "    def longestCommonPrefix(self, strs: list[str]) -> str:\n",
    "        temp = ''\n",
    "        strs.sort(key=len)\n",
    "        loop_check = True\n",
    "        for x in range(0, len(strs[0])):\n",
    "            for i in range(1, len(strs)):\n",
    "                if strs[i][x] == strs[0][x]:\n",
    "                    pass\n",
    "                else:\n",
    "                    loop_check = False\n",
    "                    break\n",
    "            if loop_check == False:\n",
    "                break\n",
    "            temp += strs[0][x]\n",
    "        return temp"
   ]
  }
 ],
 "metadata": {
  "language_info": {
   "name": "python"
  }
 },
 "nbformat": 4,
 "nbformat_minor": 2
}
