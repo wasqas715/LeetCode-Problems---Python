{
 "cells": [
  {
   "cell_type": "code",
   "execution_count": null,
   "metadata": {},
   "outputs": [],
   "source": [
    "class Solution:\n",
    "    def reverse(self, x: int) -> int:\n",
    "        if x < 0:\n",
    "            x = x* -1\n",
    "            x = int((str(x)[::-1]))\n",
    "            x = x* -1\n",
    "        else:\n",
    "            x = int((str(x)[::-1]))\n",
    "        if -2**31 <= x and x <= 2**31 - 1:\n",
    "            return x\n",
    "        else:\n",
    "            return 0"
   ]
  }
 ],
 "metadata": {
  "language_info": {
   "name": "python"
  }
 },
 "nbformat": 4,
 "nbformat_minor": 2
}
