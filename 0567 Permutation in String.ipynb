{
 "cells": [
  {
   "cell_type": "code",
   "execution_count": null,
   "metadata": {},
   "outputs": [],
   "source": [
    "from collections import Counter\n",
    "\n",
    "\n",
    "class Solution:\n",
    "    def checkInclusion(self, s1: str, s2: str) -> bool:\n",
    "        window_size = len(s1)\n",
    "        c1 = Counter(s1)\n",
    "        opt = False\n",
    "        counter = 0\n",
    "        for i in range(len(s2) + 1 - window_size):\n",
    "            if counter != i:\n",
    "                continue\n",
    "\n",
    "            s3 = s2[i:i+window_size]\n",
    "            c3 = Counter(s3)\n",
    "\n",
    "            if c3 == c1:\n",
    "\n",
    "                return True\n",
    "\n",
    "            for j in c1:\n",
    "                if j in c3:\n",
    "                    opt = True\n",
    "                    break\n",
    "\n",
    "            if opt == False and window_size > 1:\n",
    "                counter += (window_size - 1)\n",
    "                pass\n",
    "            if opt == False and window_size == 1:\n",
    "                counter += 1\n",
    "                continue\n",
    "            opt = False\n",
    "            counter += 1\n",
    "        return False"
   ]
  }
 ],
 "metadata": {
  "language_info": {
   "name": "python"
  },
  "orig_nbformat": 4
 },
 "nbformat": 4,
 "nbformat_minor": 2
}
