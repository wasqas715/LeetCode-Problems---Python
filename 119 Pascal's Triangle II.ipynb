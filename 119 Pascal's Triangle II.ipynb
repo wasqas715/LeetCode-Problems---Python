{
 "cells": [
  {
   "cell_type": "code",
   "execution_count": null,
   "metadata": {},
   "outputs": [],
   "source": [
    "class Solution:\n",
    "    def getRow(self, rowIndex: int) -> list[int]:\n",
    "        final = []\n",
    "        n = rowIndex\n",
    "        for r in range(n+1):\n",
    "            temp = int((math.factorial(n))/((math.factorial(r)) * (math.factorial(n-r))))\n",
    "            final.append(temp)\n",
    "        return (final)"
   ]
  }
 ],
 "metadata": {
  "language_info": {
   "name": "python"
  }
 },
 "nbformat": 4,
 "nbformat_minor": 2
}
