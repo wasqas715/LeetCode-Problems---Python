{
 "cells": [
  {
   "cell_type": "code",
   "execution_count": null,
   "metadata": {},
   "outputs": [],
   "source": [
    "class Solution:\n",
    "    def searchInsert(self, nums: list[int], target: int) -> int:\n",
    "        counter = 0\n",
    "        for x in nums:\n",
    "            if nums[-1] < target:\n",
    "                counter = len(nums)\n",
    "                return counter\n",
    "            if x < target:\n",
    "                counter += 1\n",
    "                pass\n",
    "            else:\n",
    "                return counter\n"
   ]
  }
 ],
 "metadata": {
  "language_info": {
   "name": "python"
  }
 },
 "nbformat": 4,
 "nbformat_minor": 2
}
