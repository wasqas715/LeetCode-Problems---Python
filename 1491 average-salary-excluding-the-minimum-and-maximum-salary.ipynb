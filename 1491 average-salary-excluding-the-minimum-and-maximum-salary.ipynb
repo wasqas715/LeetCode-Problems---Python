{
 "cells": [
  {
   "cell_type": "code",
   "execution_count": null,
   "metadata": {},
   "outputs": [],
   "source": [
    "class Solution:\n",
    "    def average(self, salary: list[int]) -> float:\n",
    "        salary = sorted(salary)\n",
    "        salary = salary[1:-1]\n",
    "        count = 0\n",
    "        for i in salary:\n",
    "            count += i\n",
    "        avg = count / len(salary)\n",
    "        return avg"
   ]
  }
 ],
 "metadata": {
  "language_info": {
   "name": "python"
  }
 },
 "nbformat": 4,
 "nbformat_minor": 2
}
