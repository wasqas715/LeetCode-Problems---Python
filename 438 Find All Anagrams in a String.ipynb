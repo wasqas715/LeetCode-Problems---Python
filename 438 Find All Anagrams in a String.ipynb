{
 "cells": [
  {
   "cell_type": "code",
   "execution_count": null,
   "metadata": {},
   "outputs": [],
   "source": [
    "class Solution:\n",
    "    def findAnagrams(self, s: str, p: str) -> list[int]:\n",
    "        window_size = len(p)\n",
    "        c1 = Counter(p)\n",
    "        ans = []\n",
    "        for i in range(len(s) + 1 - window_size):\n",
    "            s3 = s[i:i+window_size]\n",
    "            c3 = Counter(s3)\n",
    "            if c3 == c1:\n",
    "                ans.append(i)\n",
    "        return ans"
   ]
  }
 ],
 "metadata": {
  "language_info": {
   "name": "python"
  },
  "orig_nbformat": 4
 },
 "nbformat": 4,
 "nbformat_minor": 2
}
