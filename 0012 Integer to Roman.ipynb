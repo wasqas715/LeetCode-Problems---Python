{
 "cells": [
  {
   "cell_type": "code",
   "execution_count": null,
   "metadata": {},
   "outputs": [],
   "source": [
    "class Solution:\n",
    "    def intToRoman(self, num: int) -> str:\n",
    "        temp = [int(x) for x in str(num)]\n",
    "        ten_pow = 1\n",
    "        \n",
    "        mast = ''\n",
    "        for i in reversed(temp):\n",
    "            temp = i * ten_pow\n",
    "            stri = ''\n",
    "\n",
    "            # ones\n",
    "            if ten_pow == 1:\n",
    "                stri = 'I'*i\n",
    "                stri = stri = stri.replace('IIIII','V').replace('VIIII','IX').replace('IIII','IV')\n",
    "            # tens\n",
    "            if ten_pow == 10:\n",
    "                stri = 'X'*i\n",
    "                stri = stri.replace('XXXXX','L').replace('LXXXX','XC').replace('XXXX','XL')\n",
    "            # hundreds\n",
    "            if ten_pow == 100:\n",
    "                stri = stri + 'C'*i\n",
    "                stri = stri.replace('CCCCC','D').replace('DCCCC','CM').replace('CCCC','CD')\n",
    "            # Thousands\n",
    "            if ten_pow == 1000:\n",
    "                stri = 'M'*i\n",
    "\n",
    "            mast = stri + mast\n",
    "\n",
    "            ten_pow = ten_pow * 10\n",
    "        return mast"
   ]
  }
 ],
 "metadata": {
  "language_info": {
   "name": "python"
  }
 },
 "nbformat": 4,
 "nbformat_minor": 2
}
