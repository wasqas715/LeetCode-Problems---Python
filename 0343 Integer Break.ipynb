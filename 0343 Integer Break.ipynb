{
 "cells": [
  {
   "cell_type": "code",
   "execution_count": null,
   "metadata": {},
   "outputs": [],
   "source": [
    "class Solution:\n",
    "    def integerBreak(self, n: int) -> int:\n",
    "        q = n // 3\n",
    "        r = n % 3\n",
    "        if n == 2:\n",
    "            return 1\n",
    "        elif n == 3:\n",
    "            return 2\n",
    "        elif r == 0:\n",
    "            return 3 ** q\n",
    "        elif r == 1:\n",
    "            return (3 ** (q - 1)) * 4\n",
    "        else:\n",
    "            return (3 ** q) * 2"
   ]
  }
 ],
 "metadata": {
  "language_info": {
   "name": "python"
  }
 },
 "nbformat": 4,
 "nbformat_minor": 2
}
