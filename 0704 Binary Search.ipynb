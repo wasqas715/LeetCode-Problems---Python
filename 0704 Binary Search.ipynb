{
 "cells": [
  {
   "cell_type": "code",
   "execution_count": null,
   "metadata": {},
   "outputs": [],
   "source": [
    "class Solution:\n",
    "    def search(self, nums: list[int], target: int) -> int:\n",
    "        # measure of where we are searching\n",
    "        left, right = 0, len(nums) - 1  \n",
    "        # loop till the search space is exhausted\n",
    "        while left <= right:\n",
    "            # Calc midpoint to test target against\n",
    "            mid = (left + right) // 2\n",
    "            # Changes right to split search in half\n",
    "            if target < nums[mid]:\n",
    "                right = mid - 1\n",
    "            # Changes elft to split search in half\n",
    "            elif target > nums[mid]:\n",
    "                left = mid + 1\n",
    "            # target is found\n",
    "            elif target == nums[mid]:\n",
    "                return mid\n",
    "        temp = -1\n",
    "        return temp"
   ]
  }
 ],
 "metadata": {
  "language_info": {
   "name": "python"
  }
 },
 "nbformat": 4,
 "nbformat_minor": 2
}
