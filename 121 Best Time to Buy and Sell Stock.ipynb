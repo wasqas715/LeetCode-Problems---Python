{
 "cells": [
  {
   "cell_type": "code",
   "execution_count": null,
   "metadata": {},
   "outputs": [],
   "source": [
    "class Solution:\n",
    "    def maxProfit(self, prices: list[int]) -> int:\n",
    "        profit = 0\n",
    "        low = 0\n",
    "        for future in range(len(prices)):\n",
    "            if prices[low] > prices[future]:\n",
    "                low = future\n",
    "            else:\n",
    "                profit = max(profit, prices[future] - prices[low])\n",
    "        return profit"
   ]
  }
 ],
 "metadata": {
  "language_info": {
   "name": "python"
  }
 },
 "nbformat": 4,
 "nbformat_minor": 2
}
