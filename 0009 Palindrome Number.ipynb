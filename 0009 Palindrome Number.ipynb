{
 "cells": [
  {
   "cell_type": "code",
   "execution_count": null,
   "metadata": {},
   "outputs": [],
   "source": [
    "class Solution:\n",
    "    def isPalindrome(self, x: int) -> bool:\n",
    "        stringer = str(x)\n",
    "        if stringer[0] == '-':\n",
    "            stringer = stringer[1:]\n",
    "            temp = stringer[1:]\n",
    "        else:\n",
    "            temp = stringer\n",
    "        temp = temp[::-1]\n",
    "        if temp == stringer:\n",
    "            return True\n",
    "        else:\n",
    "            return False"
   ]
  }
 ],
 "metadata": {
  "language_info": {
   "name": "python"
  }
 },
 "nbformat": 4,
 "nbformat_minor": 2
}
