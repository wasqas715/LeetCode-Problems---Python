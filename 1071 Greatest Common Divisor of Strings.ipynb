{
 "cells": [
  {
   "cell_type": "code",
   "execution_count": null,
   "metadata": {},
   "outputs": [],
   "source": [
    "class Solution:\n",
    "    def gcdOfStrings(self, str1: str, str2: str) -> str:\n",
    "        cookie = min(str1, str2)\n",
    "        cookie_max = max(str2, str1)\n",
    "        if cookie_max.replace(cookie, '') == '':\n",
    "            return cookie\n",
    "        for i in range(len(cookie)):\n",
    "            temp = cookie[:-i]\n",
    "            if cookie_max.replace(temp, '') == '' and cookie.replace(temp, '') == '':\n",
    "                return temp\n",
    "        return ''"
   ]
  }
 ],
 "metadata": {
  "language_info": {
   "name": "python"
  }
 },
 "nbformat": 4,
 "nbformat_minor": 2
}
