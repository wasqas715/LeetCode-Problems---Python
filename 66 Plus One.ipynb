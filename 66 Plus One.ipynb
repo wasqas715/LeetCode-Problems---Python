{
 "cells": [
  {
   "cell_type": "code",
   "execution_count": null,
   "metadata": {},
   "outputs": [],
   "source": [
    "class Solution:\n",
    "    def plusOne(self, digits: list[int]) -> list[int]:\n",
    "        temp = int(''.join(map(str, (digits))))\n",
    "        temp += 1\n",
    "        return list(map(int, (str(temp))))\n"
   ]
  }
 ],
 "metadata": {
  "language_info": {
   "name": "python"
  }
 },
 "nbformat": 4,
 "nbformat_minor": 2
}
