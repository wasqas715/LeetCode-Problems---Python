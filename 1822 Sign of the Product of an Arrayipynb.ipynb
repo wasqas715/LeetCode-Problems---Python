{
 "cells": [
  {
   "cell_type": "code",
   "execution_count": null,
   "metadata": {},
   "outputs": [],
   "source": [
    "class Solution:\n",
    "    def arraySign(self, nums: List[int]) -> int:\n",
    "        ans = 0\n",
    "        for i in nums:\n",
    "            if i < 0:\n",
    "                ans += 1\n",
    "            elif i == 0:\n",
    "                return 0\n",
    "        if ans % 2 == 0:\n",
    "            return 1\n",
    "        else:\n",
    "            return -1"
   ]
  }
 ],
 "metadata": {
  "language_info": {
   "name": "python"
  }
 },
 "nbformat": 4,
 "nbformat_minor": 2
}
