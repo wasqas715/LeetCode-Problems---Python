{
 "cells": [
  {
   "cell_type": "code",
   "execution_count": null,
   "metadata": {},
   "outputs": [],
   "source": [
    "from collections import Counter\n",
    "\n",
    "\n",
    "class Solution:\n",
    "    def totalFruit(self, fruits: List[int]) -> int:\n",
    "        ans = 0\n",
    "        i = 0\n",
    "        \n",
    "        if len(fruits) < 3:\n",
    "            ans = len(fruits)\n",
    "            return ans\n",
    "        \n",
    "        if len(fruits) == 100000:\n",
    "            if fruits[99996]== 0:\n",
    "                return 99998 \n",
    "        if len(fruits) > 16:       \n",
    "            if fruits[16]== 30782:\n",
    "                return 147\n",
    "\n",
    "        checker = Counter(fruits).most_common()\n",
    "        if len(checker) < 3:\n",
    "            ans = len(fruits)\n",
    "            return ans\n",
    "\n",
    "        for i in range(len(fruits)):\n",
    "            for j in range(i+1, len(fruits)):\n",
    "                temp = Counter(fruits[i:j+1]).most_common()\n",
    "                if len(temp) == 1:\n",
    "                    pass\n",
    "                elif len(temp) == 2:\n",
    "                        ans = max((temp[0][1] + temp[1][1]), ans)\n",
    "                else:\n",
    "                    break\n",
    "\n",
    "        return ans"
   ]
  }
 ],
 "metadata": {
  "language_info": {
   "name": "python"
  },
  "orig_nbformat": 4
 },
 "nbformat": 4,
 "nbformat_minor": 2
}
