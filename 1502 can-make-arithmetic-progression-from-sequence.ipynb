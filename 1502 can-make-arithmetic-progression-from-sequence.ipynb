{
 "cells": [
  {
   "cell_type": "code",
   "execution_count": null,
   "metadata": {},
   "outputs": [],
   "source": [
    "class Solution:\n",
    "    def canMakeArithmeticProgression(self, arr: List[int]) -> bool:\n",
    "        arr = sorted(arr)\n",
    "        spacing = arr[1] - arr[0]\n",
    "        for i in range(len(arr) - 1):\n",
    "            if arr[i+1] - arr[i] != spacing:\n",
    "                return False\n",
    "        return True"
   ]
  }
 ],
 "metadata": {
  "language_info": {
   "name": "python"
  }
 },
 "nbformat": 4,
 "nbformat_minor": 2
}
