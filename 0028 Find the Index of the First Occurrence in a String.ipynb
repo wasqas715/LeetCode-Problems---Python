{
 "cells": [
  {
   "cell_type": "code",
   "execution_count": null,
   "metadata": {},
   "outputs": [],
   "source": [
    "class Solution:\n",
    "    def strStr(self, haystack: str, needle: str) -> int:\n",
    "        x = len(needle)\n",
    "        y = len(haystack) - x + 1\n",
    "        for i in range(y):\n",
    "            temp = i + x\n",
    "            print(haystack[i:temp])\n",
    "            if haystack[i:temp] == needle:\n",
    "                return i\n",
    "        return -1"
   ]
  }
 ],
 "metadata": {
  "language_info": {
   "name": "python"
  }
 },
 "nbformat": 4,
 "nbformat_minor": 2
}
