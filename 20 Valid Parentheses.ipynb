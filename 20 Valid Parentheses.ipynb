{
 "cells": [
  {
   "cell_type": "code",
   "execution_count": null,
   "metadata": {},
   "outputs": [],
   "source": [
    "class Solution:\n",
    "    def isValid(self, s: str) -> bool:\n",
    "        if len(s) % 2 == 1:\n",
    "            cool_var = False\n",
    "        parentheses_dict = {\n",
    "            '(':')',\n",
    "            '{':'}',\n",
    "            '[':']'\n",
    "        }\n",
    "        temp = []\n",
    "        for x in s:\n",
    "            if x in parentheses_dict.keys():\n",
    "                temp.append(x)\n",
    "            else:\n",
    "                if temp == []:\n",
    "                    return False\n",
    "                    \n",
    "                if x == parentheses_dict[temp[-1]]:\n",
    "                    temp.pop()\n",
    "                else:\n",
    "                    return False\n",
    "        if temp ==[]:\n",
    "            return True\n",
    "        else:\n",
    "            return False"
   ]
  }
 ],
 "metadata": {
  "language_info": {
   "name": "python"
  }
 },
 "nbformat": 4,
 "nbformat_minor": 2
}
