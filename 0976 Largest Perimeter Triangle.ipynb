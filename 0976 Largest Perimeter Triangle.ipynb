{
 "cells": [
  {
   "cell_type": "code",
   "execution_count": null,
   "metadata": {},
   "outputs": [],
   "source": [
    "class Solution:\n",
    "    def largestPerimeter(self, nums: list[int]) -> int:\n",
    "        temp_lst = sorted(nums)\n",
    "        for i in range(len(temp_lst) -1, 1, -1):\n",
    "            if temp_lst[i] < (temp_lst[i-1] + temp_lst[i-2]):\n",
    "                return temp_lst[i] + temp_lst[i-1] + temp_lst[i-2]\n",
    "        return 0"
   ]
  }
 ],
 "metadata": {
  "language_info": {
   "name": "python"
  }
 },
 "nbformat": 4,
 "nbformat_minor": 2
}
