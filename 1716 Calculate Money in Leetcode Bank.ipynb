{
 "cells": [
  {
   "cell_type": "code",
   "execution_count": 63,
   "metadata": {},
   "outputs": [],
   "source": [
    "def totalMoney(n):\n",
    "    lst1 = [1,2,3,4,5,6,7]\n",
    "    temp = 0\n",
    "    for i in range(0, n):\n",
    "        test = lst1[i%7]\n",
    "        # print(f'test: {test}')\n",
    "        temp += (test + i//7)\n",
    "        # print(temp)\n",
    "    return(temp)\n",
    "    \n"
   ]
  },
  {
   "cell_type": "code",
   "execution_count": 65,
   "metadata": {},
   "outputs": [
    {
     "name": "stdout",
     "output_type": "stream",
     "text": [
      "test: 1\n",
      "1\n",
      "test: 2\n",
      "3\n",
      "test: 3\n",
      "6\n",
      "test: 4\n",
      "10\n",
      "test: 5\n",
      "15\n",
      "test: 6\n",
      "21\n",
      "test: 7\n",
      "28\n",
      "test: 1\n",
      "30\n",
      "test: 2\n",
      "33\n",
      "test: 3\n",
      "37\n",
      "test: 4\n",
      "42\n",
      "test: 5\n",
      "48\n",
      "test: 6\n",
      "55\n",
      "test: 7\n",
      "63\n",
      "test: 1\n",
      "66\n",
      "test: 2\n",
      "70\n",
      "test: 3\n",
      "75\n",
      "test: 4\n",
      "81\n",
      "test: 5\n",
      "88\n",
      "test: 6\n",
      "96\n",
      "96\n"
     ]
    }
   ],
   "source": [
    "n = 20\n",
    "x = totalMoney(n)\n",
    "print(x)"
   ]
  },
  {
   "cell_type": "code",
   "execution_count": null,
   "metadata": {},
   "outputs": [],
   "source": [
    "class Solution:\n",
    "    def totalMoney(self, n: int) -> int:\n",
    "        lst1 = [1,2,3,4,5,6,7]\n",
    "        temp = 0\n",
    "        for i in range(0, n):\n",
    "            temp += (lst1[i%7] + i//7)\n",
    "        return(temp)"
   ]
  }
 ],
 "metadata": {
  "kernelspec": {
   "display_name": "Python 3",
   "language": "python",
   "name": "python3"
  },
  "language_info": {
   "codemirror_mode": {
    "name": "ipython",
    "version": 3
   },
   "file_extension": ".py",
   "mimetype": "text/x-python",
   "name": "python",
   "nbconvert_exporter": "python",
   "pygments_lexer": "ipython3",
   "version": "3.11.7"
  }
 },
 "nbformat": 4,
 "nbformat_minor": 2
}
