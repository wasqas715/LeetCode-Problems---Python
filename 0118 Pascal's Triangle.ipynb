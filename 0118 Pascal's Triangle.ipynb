{
 "cells": [
  {
   "cell_type": "code",
   "execution_count": null,
   "metadata": {},
   "outputs": [],
   "source": [
    "class Solution:\n",
    "    def generate(self, numRows: int) -> list[list[int]]:\n",
    "        final = []\n",
    "        finalv2 = []\n",
    "        for n in range(numRows):\n",
    "            final = []\n",
    "            for r in range(n+1):\n",
    "                temp = int((math.factorial(n))/((math.factorial(r)) * (math.factorial(n-r))))\n",
    "                final.append(temp)\n",
    "            finalv2.append(final)\n",
    "        return (finalv2)\n"
   ]
  }
 ],
 "metadata": {
  "language_info": {
   "name": "python"
  }
 },
 "nbformat": 4,
 "nbformat_minor": 2
}
