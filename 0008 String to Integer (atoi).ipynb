{
 "cells": [
  {
   "cell_type": "code",
   "execution_count": null,
   "metadata": {},
   "outputs": [],
   "source": [
    "class Solution:\n",
    "    def myAtoi(self, s: str) -> int:\n",
    "        t = s.lstrip()\n",
    "        print(t)\n",
    "        \n",
    "        g = \"\"\n",
    "        sign = ''\n",
    "\n",
    "        if len(t) == 0:\n",
    "            return 0\n",
    "\n",
    "\n",
    "        if t[0] == '-':\n",
    "            sign = t[0]\n",
    "            t = t[1:]\n",
    "        elif t[0] == '+':\n",
    "            t = t[1:]\n",
    "\n",
    "        for i in range(len(t)):\n",
    "            if t[i].isdigit() == True:\n",
    "                g = g + t[i]\n",
    "            else:\n",
    "                break\n",
    "\n",
    "        if g != '':\n",
    "            g = int(sign + g)\n",
    "\n",
    "        print(g)\n",
    "        if g == '':\n",
    "            return 0\n",
    "        elif int(g) < -2**31:\n",
    "            return -2**31\n",
    "        elif int(g) >= 2**31:\n",
    "            return 2**31 - 1\n",
    "        else:\n",
    "            return int(g)"
   ]
  }
 ],
 "metadata": {
  "language_info": {
   "name": "python"
  }
 },
 "nbformat": 4,
 "nbformat_minor": 2
}
