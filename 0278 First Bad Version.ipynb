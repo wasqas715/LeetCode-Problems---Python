{
 "cells": [
  {
   "cell_type": "code",
   "execution_count": null,
   "metadata": {},
   "outputs": [],
   "source": [
    "# The isBadVersion API is already defined for you.\n",
    "# def isBadVersion(version: int) -> bool:\n",
    "\n",
    "class Solution:\n",
    "    def firstBadVersion(self, n: int) -> int:\n",
    "        left, right = 1, n  \n",
    "        # loop till the search space is exhausted\n",
    "        while left < right:\n",
    "            # Calc midpoint to test target against\n",
    "            mid = (left + right) // 2\n",
    "\n",
    "            # Changes right to split search in half\n",
    "            if isBadVersion(mid):\n",
    "                right = mid \n",
    "            # Changes elft to split search in half\n",
    "            else:\n",
    "                left = mid + 1\n",
    "            # target is found\n",
    "        return left\n"
   ]
  }
 ],
 "metadata": {
  "language_info": {
   "name": "python"
  }
 },
 "nbformat": 4,
 "nbformat_minor": 2
}
