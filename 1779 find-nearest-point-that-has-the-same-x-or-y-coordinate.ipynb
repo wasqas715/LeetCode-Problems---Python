{
 "cells": [
  {
   "cell_type": "code",
   "execution_count": null,
   "metadata": {},
   "outputs": [],
   "source": [
    "class Solution:\n",
    "    def nearestValidPoint(self, x: int, y: int, points: list[list[int]]) -> int:\n",
    "        ans = 1000000000    #float('inf')\n",
    "        idx = len(points) + 2   #Outside of list bounds\n",
    "        for i in range(len(points)):\n",
    "            if x == points[i][0] or y == points[i][1]:\n",
    "                temp = abs(y - points[i][1]) + abs(x - points[i][0])\n",
    "                if temp == ans and i < idx:\n",
    "                        idx = i\n",
    "                elif temp < ans:\n",
    "                    ans = temp\n",
    "                    idx = i\n",
    "\n",
    "        if idx == len(points) + 2:\n",
    "            return -1\n",
    "        return idx"
   ]
  }
 ],
 "metadata": {
  "language_info": {
   "name": "python"
  }
 },
 "nbformat": 4,
 "nbformat_minor": 2
}
